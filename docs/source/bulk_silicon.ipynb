{
 "cells": [
  {
   "cell_type": "markdown",
   "metadata": {},
   "source": [
    "# Bulk silicon"
   ]
  },
  {
   "cell_type": "markdown",
   "metadata": {},
   "source": [
    "## 0. Prerequisites"
   ]
  },
  {
   "cell_type": "code",
   "execution_count": 1,
   "metadata": {},
   "outputs": [],
   "source": [
    "%matplotlib inline\n",
    "from IPython.display import display, Math, Latex"
   ]
  },
  {
   "cell_type": "markdown",
   "metadata": {},
   "source": [
    "## 1. Initialize Hamiltonian matrix\n",
    "\n",
    "Here we compute energy spectra of a group of atoms using tight-binding method with no periodic boundary conditions applied.\n",
    "\n",
    "As an example, we are going to compute energy spectrum for two coupled silicon atoms.\n",
    "\n",
    "First one needs to specify basis sets for each atom kind used in the poject. There is an embeded library of basis functions for several atoms defined in the class `Orbitals()`: a basis set for Si atom is called `SiliocnSP3D5S`, and basis set `HydrogenS` for H atom. The library may be extended in future."
   ]
  },
  {
   "cell_type": "code",
   "execution_count": 2,
   "metadata": {},
   "outputs": [],
   "source": [
    "import tb\n",
    "tb.Orbitals.orbital_sets = {'Si': 'SiliconSP3D5S'}"
   ]
  },
  {
   "cell_type": "markdown",
   "metadata": {},
   "source": [
    "Now the Hamiltonian matrix must be determined. The Hamiltonian matrix may be initialized in several ways. One of them is through the xyz-file determining positions if nodes/atoms."
   ]
  },
  {
   "cell_type": "code",
   "execution_count": 3,
   "metadata": {},
   "outputs": [
    {
     "name": "stderr",
     "output_type": "stream",
     "text": [
      "The verbosity level is 2\n",
      "The radius of the neighbourhood is 2.5 Ang\n",
      "\n",
      "---------------------------------\n",
      "\n",
      "The xyz-file:\n",
      " 2\n",
      "Si2 cell\n",
      "Si1       0.0000000000    0.0000000000    0.0000000000\n",
      "Si2       1.3750000000    1.3750000000    1.3750000000\n",
      "\n",
      "---------------------------------\n",
      "\n",
      "Basis set \n",
      " Num of species {'Si': 2} \n",
      "\n",
      "\n",
      " Si \n",
      "l | s | m  | energy  | title  | n\n",
      "--+---+----+---------+--------+--\n",
      "0 | 0 | 0  | -2.0196 | s      | 0\n",
      "0 | 0 | 0  | 19.6748 | c      | 1\n",
      "1 | 0 | -1 | 4.5448  | px     | 0\n",
      "1 | 0 | 1  | 4.5448  | py     | 0\n",
      "1 | 0 | 0  | 4.5448  | pz     | 0\n",
      "2 | 0 | -1 | 14.1836 | dz2    | 0\n",
      "2 | 0 | -2 | 14.1836 | dxz    | 0\n",
      "2 | 0 | 2  | 14.1836 | dyz    | 0\n",
      "2 | 0 | 1  | 14.1836 | dxy    | 0\n",
      "2 | 0 | 0  | 14.1836 | dx2my2 | 0\n",
      "--+---+----+---------+--------+--\n",
      " \n",
      "---------------------------------\n",
      "\n"
     ]
    }
   ],
   "source": [
    "xyz_file=\"\"\"2\n",
    "Si2 cell\n",
    "Si1       0.0000000000    0.0000000000    0.0000000000\n",
    "Si2       1.3750000000    1.3750000000    1.3750000000\n",
    "\"\"\"\n",
    "\n",
    "h = tb.Hamiltonian(xyz=xyz_file, nn_distance=2.5)"
   ]
  },
  {
   "cell_type": "markdown",
   "metadata": {},
   "source": [
    "The object `h` contains all information needed to build the tight-binding Hamiltonian. In order to actually compute the tight-binding Hamiltonian an additional command has to be invoked.\n",
    "The `Hamiltonian()` can also accept a path to the xyz-file instead of a string containing formated data as has been done above.\n",
    "\n",
    "Now we are ready to compute the Hamiltonian matrix:"
   ]
  },
  {
   "cell_type": "code",
   "execution_count": 4,
   "metadata": {},
   "outputs": [
    {
     "name": "stderr",
     "output_type": "stream",
     "text": [
      "Radial dependence function: None\n",
      "\n",
      "---------------------------------\n",
      "\n",
      "Unique distances: \n",
      "    2.3816 Ang between atoms Si and Si\n",
      "---------------------------------\n",
      "\n"
     ]
    }
   ],
   "source": [
    "h.initialize()"
   ]
  },
  {
   "cell_type": "markdown",
   "metadata": {},
   "source": [
    "One may access the resuted Hamiltonian matrix and visualize it."
   ]
  },
  {
   "cell_type": "code",
   "execution_count": 5,
   "metadata": {},
   "outputs": [
    {
     "data": {
      "image/png": "[encoded data removed]",
      "text/plain": [
       "<Figure size 432x288 with 1 Axes>"
      ]
     },
     "metadata": {
      "needs_background": "light"
     },
     "output_type": "display_data"
    }
   ],
   "source": [
    "import numpy as np\n",
    "import matplotlib.pyplot as plt\n",
    "plt.axis('off')\n",
    "plt.imshow(np.real(h.h_matrix))\n",
    "plt.show()"
   ]
  },
  {
   "cell_type": "markdown",
   "metadata": {},
   "source": [
    "## 2. Set periodic boundary conditions\n",
    "\n",
    "The previous computations can be extended adding periodic boundary conditions which are specified by the basis vectors of the primitive cell. If the translation symmetry is in all three dimentions, three primitive lattice basis vectors must be specified."
   ]
  },
  {
   "cell_type": "code",
   "execution_count": 6,
   "metadata": {},
   "outputs": [],
   "source": [
    "a_si = 5.50\n",
    "PRIMITIVE_CELL = [[0, 0.5 * a_si, 0.5 * a_si],\n",
    "                  [0.5 * a_si, 0, 0.5 * a_si],\n",
    "                  [0.5 * a_si, 0.5 * a_si, 0]]"
   ]
  },
  {
   "cell_type": "markdown",
   "metadata": {},
   "source": [
    "Having the primitive cell basis vectors, the periodic boundary conditions can be added to the problem by the help of the member function of the previously crated object `h` of the class `Hamiltonian()`"
   ]
  },
  {
   "cell_type": "code",
   "execution_count": 7,
   "metadata": {},
   "outputs": [
    {
     "name": "stderr",
     "output_type": "stream",
     "text": [
      "Primitive_cell_vectors: \n",
      " [[0, 2.75, 2.75], [2.75, 0, 2.75], [2.75, 2.75, 0]] \n",
      "\n",
      "Virtual and interfacial atoms: \n",
      " Label              Coordinates     \n",
      "0_Si1              [0. 0. 0.]      \n",
      "*_0_0_Si1          [0.   2.75 2.75] \n",
      "**_1_0_Si1         [0.  5.5 5.5]   \n",
      "**_2_0_Si1         [2.75 2.75 5.5 ] \n",
      "**_3_0_Si1         [-2.75  2.75  0.  ] \n",
      "**_4_0_Si1         [2.75 5.5  2.75] \n",
      "**_5_0_Si1         [-2.75  0.    2.75] \n",
      "*_6_0_Si1          [2.75 0.   2.75] \n",
      "**_7_0_Si1         [ 2.75 -2.75  0.  ] \n",
      "**_8_0_Si1         [5.5 0.  5.5]   \n",
      "**_9_0_Si1         [5.5  2.75 2.75] \n",
      "**_10_0_Si1        [ 0.   -2.75  2.75] \n",
      "*_11_0_Si1         [2.75 2.75 0.  ] \n",
      "**_12_0_Si1        [ 2.75  0.   -2.75] \n",
      "**_13_0_Si1        [ 0.    2.75 -2.75] \n",
      "**_14_0_Si1        [5.5 5.5 0. ]   \n",
      "*_15_0_Si1         [ 0.   -2.75 -2.75] \n",
      "**_16_0_Si1        [ 0.  -5.5 -5.5] \n",
      "**_17_0_Si1        [-2.75 -2.75 -5.5 ] \n",
      "**_18_0_Si1        [-2.75 -5.5  -2.75] \n",
      "*_19_0_Si1         [-2.75  0.   -2.75] \n",
      "**_20_0_Si1        [-5.5  0.  -5.5] \n",
      "**_21_0_Si1        [-5.5  -2.75 -2.75] \n",
      "*_22_0_Si1         [-2.75 -2.75  0.  ] \n",
      "**_23_0_Si1        [-5.5 -5.5  0. ] \n",
      "1_Si2              [1.375 1.375 1.375] \n",
      "*_24_1_Si2         [1.375 4.125 4.125] \n",
      "**_25_1_Si2        [1.375 6.875 6.875] \n",
      "**_26_1_Si2        [4.125 4.125 6.875] \n",
      "**_27_1_Si2        [-1.375  4.125  1.375] \n",
      "**_28_1_Si2        [4.125 6.875 4.125] \n",
      "**_29_1_Si2        [-1.375  1.375  4.125] \n",
      "*_30_1_Si2         [4.125 1.375 4.125] \n",
      "**_31_1_Si2        [ 4.125 -1.375  1.375] \n",
      "**_32_1_Si2        [6.875 1.375 6.875] \n",
      "**_33_1_Si2        [6.875 4.125 4.125] \n",
      "**_34_1_Si2        [ 1.375 -1.375  4.125] \n",
      "*_35_1_Si2         [4.125 4.125 1.375] \n",
      "**_36_1_Si2        [ 4.125  1.375 -1.375] \n",
      "**_37_1_Si2        [ 1.375  4.125 -1.375] \n",
      "**_38_1_Si2        [6.875 6.875 1.375] \n",
      "*_39_1_Si2         [ 1.375 -1.375 -1.375] \n",
      "**_40_1_Si2        [ 1.375 -4.125 -4.125] \n",
      "**_41_1_Si2        [-1.375 -1.375 -4.125] \n",
      "**_42_1_Si2        [-1.375 -4.125 -1.375] \n",
      "*_43_1_Si2         [-1.375  1.375 -1.375] \n",
      "**_44_1_Si2        [-4.125  1.375 -4.125] \n",
      "**_45_1_Si2        [-4.125 -1.375 -1.375] \n",
      "*_46_1_Si2         [-1.375 -1.375  1.375] \n",
      "**_47_1_Si2        [-4.125 -4.125  1.375] \n",
      " \n",
      "---------------------------------\n",
      "\n"
     ]
    }
   ],
   "source": [
    "h.set_periodic_bc(PRIMITIVE_CELL)"
   ]
  },
  {
   "cell_type": "markdown",
   "metadata": {},
   "source": [
    "## 3. Generate a set of wave vector coordinates\n",
    "\n",
    "In order to diagonalize the Hamiltonian matrix, one has to define a set of wave vectors for which the matrix diagoalizaion will be performed. There are several ways to genegate the array of k-points. Here we show the one realized be specifying a path in the Brillouine zone through a number of high-symmentry points."
   ]
  },
  {
   "cell_type": "code",
   "execution_count": 8,
   "metadata": {},
   "outputs": [],
   "source": [
    "from tb import get_k_coords\n",
    "\n",
    "sym_points = ['L', 'GAMMA', 'X', 'W', 'K', 'L', 'W', 'X', 'K', 'GAMMA']\n",
    "num_points = [15, 20, 15, 10, 15, 15, 15, 15, 20]\n",
    "k = get_k_coords(sym_points, num_points, 'Si')"
   ]
  },
  {
   "cell_type": "markdown",
   "metadata": {},
   "source": [
    "\n",
    "## 4. Computing band structure of bulk silicon\n",
    "\n",
    "The matrix diagonalization is performed in a loop for each k-point."
   ]
  },
  {
   "cell_type": "code",
   "execution_count": 9,
   "metadata": {},
   "outputs": [],
   "source": [
    "vals = np.zeros((sum(num_points), h.h_matrix.shape[0]), dtype=np.complex)\n",
    "\n",
    "for jj, item in enumerate(k):\n",
    "    vals[jj, :], _ = h.diagonalize_periodic_bc(item)\n"
   ]
  },
  {
   "cell_type": "markdown",
   "metadata": {},
   "source": [
    "## 5. Visualize"
   ]
  },
  {
   "cell_type": "code",
   "execution_count": 10,
   "metadata": {},
   "outputs": [
    {
     "data": {
      "image/png": "[encoded data removed]",
      "text/plain": [
       "<Figure size 432x288 with 1 Axes>"
      ]
     },
     "metadata": {
      "needs_background": "light"
     },
     "output_type": "display_data"
    }
   ],
   "source": [
    "ax = plt.axes()\n",
    "ax.set_title('Band structure of the bulk silicon')\n",
    "ax.set_ylabel('Energy (eV)')\n",
    "ax.plot(np.sort(np.real(vals))[:, :8])\n",
    "plt.show()"
   ]
  }
 ],
 "metadata": {
  "kernelspec": {
   "display_name": "Python 3",
   "language": "python",
   "name": "python3"
  },
  "language_info": {
   "codemirror_mode": {
    "name": "ipython",
    "version": 3
   },
   "file_extension": ".py",
   "mimetype": "text/x-python",
   "name": "python",
   "nbconvert_exporter": "python",
   "pygments_lexer": "ipython3",
   "version": "3.5.2"
  }
 },
 "nbformat": 4,
 "nbformat_minor": 2
}
