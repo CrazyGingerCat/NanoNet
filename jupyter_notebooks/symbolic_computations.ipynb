{
 "cells": [
  {
   "cell_type": "code",
   "execution_count": 1,
   "metadata": {},
   "outputs": [
    {
     "name": "stderr",
     "output_type": "stream",
     "text": [
      " _   _                   _   _      _   \n",
      "| \\ | | __ _ _ __   ___ | \\ | | ___| |_ \n",
      "|  \\| |/ _` | '_ \\ / _ \\|  \\| |/ _ \\ __|\n",
      "| |\\  | (_| | | | | (_) | |\\  |  __/ |_ \n",
      "|_| \\_|\\__,_|_| |_|\\___/|_| \\_|\\___|\\__|\n",
      "                                        \n",
      "\n",
      "Vesion 1.3.1\n"
     ]
    }
   ],
   "source": [
    "import numpy as np\n",
    "from sympy import pprint, nsimplify, simplify, latex\n",
    "from IPython.display import display, Math\n",
    "import nanonet.tb as tb\n",
    "from nanonet.tb.hamiltonian_sym import Hamiltonian_sym"
   ]
  },
  {
   "cell_type": "code",
   "execution_count": 2,
   "metadata": {},
   "outputs": [
    {
     "name": "stderr",
     "output_type": "stream",
     "text": [
      "The verbosity level is 1\n",
      "The radius of the neighbourhood is 1.1 Ang\n",
      "\n",
      "---------------------------------\n",
      "\n",
      "The xyz-file:\n",
      " 4\n",
      "H cell\n",
      "A1       0.0000000000    0.0000000000    0.0000000000\n",
      "B2       0.0000000000    0.0000000000    1.0000000000\n",
      "A2       0.0000000000    1.0000000000    0.0000000000\n",
      "B3       0.0000000000    1.0000000000    1.0000000000\n",
      "\n",
      "---------------------------------\n",
      "\n",
      "Basis set \n",
      " Num of species {'A': 2, 'B': 2} \n",
      "\n",
      "\n",
      " A \n",
      "title | energy | n | l | m | s\n",
      "------+--------+---+---+---+--\n",
      "s     | -0.7   | 0 | 0 | 0 | 0\n",
      "------+--------+---+---+---+--\n",
      " \n",
      "\n",
      " B \n",
      "title | energy | n | l | m | s\n",
      "------+--------+---+---+---+--\n",
      "s     | -0.5   | 0 | 0 | 0 | 0\n",
      "------+--------+---+---+---+--\n",
      " \n",
      "---------------------------------\n",
      "\n",
      "Radial dependence function: None\n",
      "\n",
      "---------------------------------\n",
      "\n",
      "Discrete radial dependence function: None\n",
      "\n",
      "---------------------------------\n",
      "\n",
      "Unique distances: \n",
      "    1. Ang between atoms B and B\n",
      "    1. Ang between atoms A and B\n",
      "    1. Ang between atoms A and A\n",
      "    1. Ang between atoms B and A\n",
      "---------------------------------\n",
      "\n",
      "Primitive_cell_vectors: \n",
      " [[0, 0, 2.0]] \n",
      "\n",
      "---------------------------------\n",
      "\n"
     ]
    },
    {
     "data": {
      "text/latex": [
       "$\\displaystyle \\left[\\begin{matrix}\\epsilon^{A}_{s} & 2 AB_{ss \\sigma} \\cos{\\left(0.128 \\right)} & AA_{ss \\sigma} & 0\\\\2 AB_{ss \\sigma} \\cos{\\left(0.128 \\right)} & \\epsilon^{B}_{s} & 0 & BB_{ss \\sigma}\\\\AA_{ss \\sigma} & 0 & \\epsilon^{A}_{s} & 2 AB_{ss \\sigma} \\cos{\\left(0.128 \\right)}\\\\0 & BB_{ss \\sigma} & 2 AB_{ss \\sigma} \\cos{\\left(0.128 \\right)} & \\epsilon^{B}_{s}\\end{matrix}\\right]$"
      ],
      "text/plain": [
       "<IPython.core.display.Math object>"
      ]
     },
     "metadata": {},
     "output_type": "display_data"
    }
   ],
   "source": [
    "    a = tb.Orbitals('A')\n",
    "    a.add_orbital('s', -0.7)\n",
    "    b = tb.Orbitals('B')\n",
    "    b.add_orbital('s', -0.5)\n",
    "    c = tb.Orbitals('C')\n",
    "    c.add_orbital('s', -0.3)\n",
    "\n",
    "    tb.Orbitals.orbital_sets = {'A': a, 'B': b, 'C': c}\n",
    "\n",
    "    tb.set_tb_params(PARAMS_A_A={'ss_sigma': -0.5},\n",
    "                     PARAMS_B_B={'ss_sigma': -0.5},\n",
    "                     PARAMS_A_B={'ss_sigma': -0.5},\n",
    "                     PARAMS_B_C={'ss_sigma': -0.5},\n",
    "                     PARAMS_A_C={'ss_sigma': -0.5})\n",
    "\n",
    "    xyz_file = \"\"\"4\n",
    "    H cell\n",
    "    A1       0.0000000000    0.0000000000    0.0000000000\n",
    "    B2       0.0000000000    0.0000000000    1.0000000000\n",
    "    A2       0.0000000000    1.0000000000    0.0000000000\n",
    "    B3       0.0000000000    1.0000000000    1.0000000000\n",
    "    \"\"\"\n",
    "\n",
    "    h = Hamiltonian_sym(xyz=xyz_file, nn_distance=1.1)\n",
    "    h.initialize()\n",
    "    per = 2.0\n",
    "    h.set_periodic_bc([[0, 0, per]])\n",
    "    # h_l, h_0, h_r = h.get_hamiltonians()\n",
    "    #\n",
    "    # energy = np.linspace(-3.0, 1.5, 700)\n",
    "\n",
    "    wv = np.linspace(0, 2*np.pi/per, 50)\n",
    "\n",
    "\n",
    "    M = h.diagonalize_periodic_bc(np.array([0, 0, wv[2]]))\n",
    "    display(Math(latex(nsimplify(simplify(M)))))\n",
    "    # pprint(M.eigenvals())\n"
   ]
  },
  {
   "cell_type": "code",
   "execution_count": null,
   "metadata": {},
   "outputs": [],
   "source": []
  }
 ],
 "metadata": {
  "kernelspec": {
   "display_name": "env",
   "language": "python",
   "name": "env"
  },
  "language_info": {
   "codemirror_mode": {
    "name": "ipython",
    "version": 3
   },
   "file_extension": ".py",
   "mimetype": "text/x-python",
   "name": "python",
   "nbconvert_exporter": "python",
   "pygments_lexer": "ipython3",
   "version": "3.8.5"
  }
 },
 "nbformat": 4,
 "nbformat_minor": 4
}
