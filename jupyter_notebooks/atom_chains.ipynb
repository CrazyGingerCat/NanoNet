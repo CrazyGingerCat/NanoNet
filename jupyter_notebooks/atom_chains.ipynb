{
 "cells": [
  {
   "cell_type": "code",
   "execution_count": 1,
   "metadata": {},
   "outputs": [],
   "source": [
    "%matplotlib inline\n",
    "from IPython.display import display, Math, Latex\n",
    "import numpy as np\n",
    "import matplotlib.pyplot as plt"
   ]
  },
  {
   "cell_type": "markdown",
   "metadata": {},
   "source": [
    "# tb tutorial: chain of coupled Hydrogen-like atoms"
   ]
  },
  {
   "cell_type": "code",
   "execution_count": 28,
   "metadata": {},
   "outputs": [
    {
     "name": "stdout",
     "output_type": "stream",
     "text": [
      "[[-1. +0.j -3. +0.j]\n",
      " [-3. +0.j -0.7+0.j]]\n"
     ]
    },
    {
     "data": {
      "image/png": "[encoded data removed]",
      "text/plain": [
       "<matplotlib.figure.Figure at 0x7f15fff82c50>"
      ]
     },
     "metadata": {},
     "output_type": "display_data"
    }
   ],
   "source": [
    "import tb\n",
    "a = tb.Atom('A')\n",
    "a.add_orbital(title='s', energy=-1, )\n",
    "b = tb.Atom('B')\n",
    "b.add_orbital(title='s', energy=-0.7, )\n",
    "\n",
    "tb.Atom.orbital_sets = {'A': a, 'B': b}\n",
    "\n",
    "xyz_file=\"\"\"2\n",
    "H cell\n",
    "A       0.0000000000    0.0000000000    0.0000000000\n",
    "B       0.0000000000    0.0000000000    1.0000000000\n",
    "\"\"\"\n",
    "tb.set_tb_params(PARAMS_A_B={'ss_sigma': -3.0})\n",
    "h = tb.Hamiltonian(xyz=xyz_file, nn_distance=1.1)\n",
    "h.initialize()\n",
    "plt.axis('off')\n",
    "plt.imshow(np.real(h.h_matrix))\n",
    "print h.h_matrix"
   ]
  },
  {
   "cell_type": "code",
   "execution_count": 29,
   "metadata": {},
   "outputs": [],
   "source": [
    "PRIMITIVE_CELL = [[0, 0, 2.0]]"
   ]
  },
  {
   "cell_type": "code",
   "execution_count": 30,
   "metadata": {},
   "outputs": [],
   "source": [
    "h.set_periodic_bc(PRIMITIVE_CELL)"
   ]
  },
  {
   "cell_type": "code",
   "execution_count": 31,
   "metadata": {},
   "outputs": [],
   "source": [
    "num_points = 20\n",
    "kk = np.linspace(0, 3.14/2, num_points, endpoint=True)"
   ]
  },
  {
   "cell_type": "code",
   "execution_count": 32,
   "metadata": {},
   "outputs": [
    {
     "name": "stdout",
     "output_type": "stream",
     "text": [
      "OrderedDict([('0_A', array([0., 0., 0.])), ('*_0_0_A', array([0., 0., 2.])), ('1_B', array([0., 0., 1.])), ('*_1_1_B', array([ 0.,  0., -1.]))])\n"
     ]
    },
    {
     "data": {
      "image/png": "[encoded data removed]",
      "text/plain": [
       "<matplotlib.figure.Figure at 0x7f15ffd61d90>"
      ]
     },
     "metadata": {},
     "output_type": "display_data"
    }
   ],
   "source": [
    "band_sructure = []\n",
    "print h.ct.virtual_and_interfacial_atoms\n",
    "\n",
    "for jj in xrange(num_points):\n",
    "    vals, _ = h.diagonalize_periodic_bc([0.0, 0.0, kk[jj]])\n",
    "    band_sructure.append(vals)\n",
    "\n",
    "band_sructure = np.array(band_sructure)\n",
    "\n",
    "from matplotlib import rc\n",
    "plt.rc('text', usetex=True)\n",
    "plt.rc('font', family='sans-serif', size=14)\n",
    "ax = plt.axes()\n",
    "ax.set_title('Band structure of the atomic chain')\n",
    "ax.set_xlabel(r'Wave vector ($\\frac{\\pi}{a}$)')\n",
    "ax.set_ylabel(r'Energy (eV)')\n",
    "ax.plot(kk, np.sort(np.real(band_sructure)))\n",
    "plt.show()"
   ]
  },
  {
   "cell_type": "code",
   "execution_count": null,
   "metadata": {},
   "outputs": [],
   "source": []
  },
  {
   "cell_type": "code",
   "execution_count": null,
   "metadata": {},
   "outputs": [],
   "source": []
  }
 ],
 "metadata": {
  "kernelspec": {
   "display_name": "Python 2",
   "language": "python",
   "name": "python2"
  },
  "language_info": {
   "codemirror_mode": {
    "name": "ipython",
    "version": 2
   },
   "file_extension": ".py",
   "mimetype": "text/x-python",
   "name": "python",
   "nbconvert_exporter": "python",
   "pygments_lexer": "ipython2",
   "version": "2.7.12"
  }
 },
 "nbformat": 4,
 "nbformat_minor": 2
}
