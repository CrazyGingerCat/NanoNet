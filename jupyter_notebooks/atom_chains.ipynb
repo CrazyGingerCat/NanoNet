{
 "cells": [
  {
   "cell_type": "markdown",
   "metadata": {},
   "source": [
    "# Chain of coupled Hydrogen-like atoms\n",
    "## 0. Prerequisites"
   ]
  },
  {
   "cell_type": "code",
   "execution_count": 1,
   "metadata": {},
   "outputs": [],
   "source": [
    "%matplotlib inline\n",
    "from IPython.display import display, Math, Latex\n",
    "import numpy as np\n",
    "np.warnings.filterwarnings('ignore')\n",
    "import matplotlib.pyplot as plt\n",
    "\n",
    "import tb"
   ]
  },
  {
   "cell_type": "markdown",
   "metadata": {},
   "source": [
    "## 1. Adding new species\n",
    "\n",
    "Let us define two atoms, called A and B, each has a silgle $s$ orbital and diffrrent energies -1 eV and -0.7 eV."
   ]
  },
  {
   "cell_type": "code",
   "execution_count": 2,
   "metadata": {},
   "outputs": [],
   "source": [
    "a = tb.Orbitals('A')\n",
    "a.add_orbital(title='s', energy=-1, )\n",
    "b = tb.Orbitals('B')\n",
    "b.add_orbital(title='s', energy=-0.7, )"
   ]
  },
  {
   "cell_type": "markdown",
   "metadata": {},
   "source": [
    "Now we define a set of of orbitals for tight-binding computations registring created atoms:"
   ]
  },
  {
   "cell_type": "code",
   "execution_count": 3,
   "metadata": {},
   "outputs": [],
   "source": [
    "tb.Orbitals.orbital_sets = {'A': a, 'B': b}"
   ]
  },
  {
   "cell_type": "markdown",
   "metadata": {},
   "source": [
    "The geometrical parameters of the system are specified by a xyz-file:"
   ]
  },
  {
   "cell_type": "code",
   "execution_count": 4,
   "metadata": {},
   "outputs": [],
   "source": [
    "xyz_file=\"\"\"2\n",
    "H cell\n",
    "A       0.0000000000    0.0000000000    0.0000000000\n",
    "B       0.0000000000    0.0000000000    1.0000000000\n",
    "\"\"\""
   ]
  },
  {
   "cell_type": "markdown",
   "metadata": {},
   "source": [
    "Now one needs to specify the coupling parameters between pairs of atoms with a given diatomic symmetry:"
   ]
  },
  {
   "cell_type": "code",
   "execution_count": 5,
   "metadata": {},
   "outputs": [],
   "source": [
    "tb.set_tb_params(PARAMS_A_B={'ss_sigma': 0.3})"
   ]
  },
  {
   "cell_type": "markdown",
   "metadata": {},
   "source": [
    "## 2. Computing Hamiltonian matrix elments\n",
    "At this point the hamiltonian matrix can be computed and visualized:"
   ]
  },
  {
   "cell_type": "code",
   "execution_count": 10,
   "metadata": {},
   "outputs": [
    {
     "name": "stderr",
     "output_type": "stream",
     "text": [
      "The verbosity level is 2\n",
      "The radius of the neighbourhood is 1.1 Ang\n",
      "\n",
      "---------------------------------\n",
      "\n",
      "The xyz-file:\n",
      " 2\n",
      "H cell\n",
      "A       0.0000000000    0.0000000000    0.0000000000\n",
      "B       0.0000000000    0.0000000000    1.0000000000\n",
      "\n",
      "---------------------------------\n",
      "\n",
      "Basis set \n",
      " Num of species {'A': 1, 'B': 1} \n",
      "\n",
      "\n",
      " A \n",
      "title | energy | m | l | n | s\n",
      "------+--------+---+---+---+--\n",
      "s     | -1     | 0 | 0 | 0 | 0\n",
      "------+--------+---+---+---+--\n",
      " \n",
      "\n",
      " B \n",
      "title | energy | m | l | n | s\n",
      "------+--------+---+---+---+--\n",
      "s     | -0.7   | 0 | 0 | 0 | 0\n",
      "------+--------+---+---+---+--\n",
      " \n",
      "---------------------------------\n",
      "\n",
      "Radial dependence function: None\n",
      "\n",
      "---------------------------------\n",
      "\n"
     ]
    }
   ],
   "source": [
    "h = tb.Hamiltonian(xyz=xyz_file, nn_distance=1.1)\n",
    "h.initialize()"
   ]
  },
  {
   "cell_type": "code",
   "execution_count": 11,
   "metadata": {},
   "outputs": [
    {
     "name": "stdout",
     "output_type": "stream",
     "text": [
      "[[-1. +0.j  0.3+0.j]\n",
      " [ 0.3+0.j -0.7+0.j]]\n"
     ]
    },
    {
     "data": {
      "image/png": "[encoded data removed]",
      "text/plain": [
       "<Figure size 432x288 with 1 Axes>"
      ]
     },
     "metadata": {
      "needs_background": "light"
     },
     "output_type": "display_data"
    }
   ],
   "source": [
    "plt.axis('off')\n",
    "plt.imshow(np.real(h.h_matrix))\n",
    "print(h.h_matrix)"
   ]
  },
  {
   "cell_type": "markdown",
   "metadata": {},
   "source": [
    "## 3. Band structure computation and visualization\n",
    "\n",
    "Let us specify periodic bondary conditions. Below, assume that system is translated in along axis z:"
   ]
  },
  {
   "cell_type": "code",
   "execution_count": 7,
   "metadata": {},
   "outputs": [
    {
     "name": "stderr",
     "output_type": "stream",
     "text": [
      "Primitive_cell_vectors: \n",
      " [[0, 0, 2.0]] \n",
      "\n",
      "Virtual and interfacial atoms: \n",
      " Label              Coordinates     \n",
      "0_A1               [0. 0. 0.]      \n",
      "*_0_0_A1           [0. 0. 2.]      \n",
      "**_1_0_A1          [0. 0. 4.]      \n",
      "*_2_0_A1           [ 0.  0. -2.]   \n",
      "**_3_0_A1          [ 0.  0. -4.]   \n",
      "1_B1               [0. 0. 1.]      \n",
      "*_4_1_B1           [0. 0. 3.]      \n",
      "**_5_1_B1          [0. 0. 5.]      \n",
      "*_6_1_B1           [ 0.  0. -1.]   \n",
      "**_7_1_B1          [ 0.  0. -3.]   \n",
      " \n",
      "---------------------------------\n",
      "\n"
     ]
    }
   ],
   "source": [
    "PRIMITIVE_CELL = [[0, 0, 2.0]]\n",
    "h.set_periodic_bc(PRIMITIVE_CELL)"
   ]
  },
  {
   "cell_type": "markdown",
   "metadata": {},
   "source": [
    "Now we determine a set of k-points where we want to compute band structure."
   ]
  },
  {
   "cell_type": "code",
   "execution_count": 8,
   "metadata": {},
   "outputs": [],
   "source": [
    "num_points = 20\n",
    "kk = np.linspace(0, 3.14/2, num_points, endpoint=True)"
   ]
  },
  {
   "cell_type": "markdown",
   "metadata": {},
   "source": [
    "The band structure computations are performed below for each k-point:"
   ]
  },
  {
   "cell_type": "code",
   "execution_count": 9,
   "metadata": {},
   "outputs": [
    {
     "data": {
      "image/png": "[encoded data removed]",
      "text/plain": [
       "<Figure size 432x288 with 1 Axes>"
      ]
     },
     "metadata": {
      "needs_background": "light"
     },
     "output_type": "display_data"
    }
   ],
   "source": [
    "band_sructure = []\n",
    "\n",
    "for jj in range(num_points):\n",
    "    vals, _ = h.diagonalize_periodic_bc([0.0, 0.0, kk[jj]])\n",
    "    band_sructure.append(vals)\n",
    "\n",
    "band_sructure = np.array(band_sructure)\n",
    "\n",
    "from matplotlib import rc\n",
    "plt.rc('text', usetex=True)\n",
    "plt.rc('font', family='sans-serif', size=14)\n",
    "ax = plt.axes()\n",
    "ax.set_title('Band structure of the atomic chain')\n",
    "ax.set_xlabel(r'Wave vector ($\\frac{\\pi}{a}$)')\n",
    "ax.set_ylabel(r'Energy (eV)')\n",
    "ax.plot(kk, np.sort(np.real(band_sructure)))\n",
    "plt.show()"
   ]
  }
 ],
 "metadata": {
  "kernelspec": {
   "display_name": "Python 3",
   "language": "python",
   "name": "python3"
  },
  "language_info": {
   "codemirror_mode": {
    "name": "ipython",
    "version": 3
   },
   "file_extension": ".py",
   "mimetype": "text/x-python",
   "name": "python",
   "nbconvert_exporter": "python",
   "pygments_lexer": "ipython3",
   "version": "3.5.2"
  }
 },
 "nbformat": 4,
 "nbformat_minor": 2
}
