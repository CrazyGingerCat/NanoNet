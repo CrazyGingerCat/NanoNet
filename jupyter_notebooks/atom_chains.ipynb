{
 "cells": [
  {
   "cell_type": "code",
   "execution_count": 1,
   "metadata": {},
   "outputs": [],
   "source": [
    "%matplotlib inline\n",
    "from IPython.display import display, Math, Latex\n",
    "import numpy as np\n",
    "import matplotlib.pyplot as plt"
   ]
  },
  {
   "cell_type": "markdown",
   "metadata": {},
   "source": [
    "# Chain of coupled Hydrogen-like atoms"
   ]
  },
  {
   "cell_type": "code",
   "execution_count": 2,
   "metadata": {},
   "outputs": [
    {
     "name": "stdout",
     "output_type": "stream",
     "text": [
      "[[-1. +0.j -1.5+0.j]\n",
      " [-1.5+0.j -2. +0.j]]\n"
     ]
    },
    {
     "name": "stderr",
     "output_type": "stream",
     "text": [
      "/home/mk/TB_project/virt_env/local/lib/python2.7/site-packages/tb/diatomic_matrix_element.py:84: RuntimeWarning: divide by zero encountered in double_scalars\n",
      "  prefactor = ((0.5 * (1 + N)) ** l) * (((1 - N) / (1 + N)) ** (m1 * 0.5 - m2 * 0.5)) * \\\n",
      "/home/mk/TB_project/virt_env/local/lib/python2.7/site-packages/tb/diatomic_matrix_element.py:92: RuntimeWarning: divide by zero encountered in double_scalars\n",
      "  ans += ((-1) ** t) * (((1 - N) / (1 + N)) ** t) / \\\n"
     ]
    },
    {
     "data": {
      "image/png": "[encoded data removed]",
      "text/plain": [
       "<Figure size 432x288 with 1 Axes>"
      ]
     },
     "metadata": {},
     "output_type": "display_data"
    }
   ],
   "source": [
    "import tb\n",
    "a = tb.Atom('A')\n",
    "a.add_orbital(title='s', energy=-1, )\n",
    "b = tb.Atom('B')\n",
    "b.add_orbital(title='s', energy=-2, )\n",
    "\n",
    "tb.Atom.orbital_sets = {'A': a, 'B': b}\n",
    "\n",
    "xyz_file=\"\"\"2\n",
    "H cell\n",
    "A       0.0000000000    0.0000000000    0.0000000000\n",
    "B       0.0000000000    0.0000000000    1.0000000000\n",
    "\"\"\"\n",
    "tb.set_tb_params(PARAMS_A_B={'ss_sigma': -1.5})\n",
    "h = tb.Hamiltonian(xyz=xyz_file, nn_distance=1.1)\n",
    "h.initialize()\n",
    "plt.axis('off')\n",
    "plt.imshow(np.real(h.h_matrix))\n",
    "print h.h_matrix"
   ]
  },
  {
   "cell_type": "code",
   "execution_count": 3,
   "metadata": {},
   "outputs": [],
   "source": [
    "PRIMITIVE_CELL = [[0, 0, 2.0]]"
   ]
  },
  {
   "cell_type": "code",
   "execution_count": 4,
   "metadata": {},
   "outputs": [],
   "source": [
    "h.set_periodic_bc(PRIMITIVE_CELL)"
   ]
  },
  {
   "cell_type": "code",
   "execution_count": 5,
   "metadata": {},
   "outputs": [],
   "source": [
    "num_points = 20\n",
    "kk = np.linspace(0, 3.14/2, num_points, endpoint=True)"
   ]
  },
  {
   "cell_type": "code",
   "execution_count": 6,
   "metadata": {},
   "outputs": [
    {
     "name": "stdout",
     "output_type": "stream",
     "text": [
      "OrderedDict([('0_A', array([0., 0., 0.])), ('*_0_0_A', array([0., 0., 2.])), ('1_B', array([0., 0., 1.])), ('*_1_1_B', array([ 0.,  0., -1.]))])\n"
     ]
    },
    {
     "data": {
      "image/png": "[encoded data removed]",
      "text/plain": [
       "<Figure size 432x288 with 1 Axes>"
      ]
     },
     "metadata": {},
     "output_type": "display_data"
    }
   ],
   "source": [
    "band_sructure = []\n",
    "print h.ct.virtual_and_interfacial_atoms\n",
    "\n",
    "for jj in xrange(num_points):\n",
    "    vals, _ = h.diagonalize_periodic_bc([0.0, 0.0, kk[jj]])\n",
    "    band_sructure.append(vals)\n",
    "\n",
    "band_sructure = np.array(band_sructure)\n",
    "\n",
    "ax = plt.axes()\n",
    "ax.plot(kk, np.sort(np.real(band_sructure)))\n",
    "plt.show()"
   ]
  },
  {
   "cell_type": "code",
   "execution_count": null,
   "metadata": {},
   "outputs": [],
   "source": []
  },
  {
   "cell_type": "code",
   "execution_count": null,
   "metadata": {},
   "outputs": [],
   "source": []
  }
 ],
 "metadata": {
  "kernelspec": {
   "display_name": "Python 2",
   "language": "python",
   "name": "python2"
  },
  "language_info": {
   "codemirror_mode": {
    "name": "ipython",
    "version": 2
   },
   "file_extension": ".py",
   "mimetype": "text/x-python",
   "name": "python",
   "nbconvert_exporter": "python",
   "pygments_lexer": "ipython2",
   "version": "2.7.12"
  }
 },
 "nbformat": 4,
 "nbformat_minor": 2
}
