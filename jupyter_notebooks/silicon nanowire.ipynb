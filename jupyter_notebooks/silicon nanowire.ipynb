{
 "cells": [
  {
   "cell_type": "code",
   "execution_count": 7,
   "metadata": {},
   "outputs": [
    {
     "data": {
      "image/png": "[encoded data removed]",
      "text/plain": [
       "<Figure size 432x288 with 1 Axes>"
      ]
     },
     "metadata": {},
     "output_type": "display_data"
    }
   ],
   "source": [
    "import matplotlib.pyplot as plt\n",
    "import numpy as np\n",
    "import tb\n",
    "\n",
    "a_si = 5.50\n",
    "PRIMITIVE_CELL = [[0, 0, a_si]]\n",
    "tb.Atom.orbital_sets = {'Si': 'SiliconSP3D5S', 'H': 'HydrogenS'}\n",
    "\n",
    "h = tb.Hamiltonian(xyz='../input_samples/SiNW.xyz', nn_distance=1.4)\n",
    "h.initialize()\n",
    "h.set_periodic_bc(PRIMITIVE_CELL)\n",
    "\n",
    "num_points = 20\n",
    "kk = np.linspace(0, 3.14 / a_si, num_points, endpoint=True)\n",
    "band_sructure = []\n",
    "\n",
    "for jj in xrange(num_points):\n",
    "    vals, _ = h.diagonalize_periodic_bc([0.0, 0.0, kk[jj]])\n",
    "    band_sructure.append(vals)\n",
    "\n",
    "band_sructure = np.array(band_sructure)\n",
    "\n",
    "ax = plt.axes()\n",
    "ax.set_ylim(-1.0, 2.7)\n",
    "# ax.xaxis.set_major_formatter(plt.FuncFormatter(format_func))\n",
    "ax.plot(kk, np.sort(np.real(band_sructure)))\n",
    "plt.show()\n"
   ]
  },
  {
   "cell_type": "code",
   "execution_count": null,
   "metadata": {},
   "outputs": [],
   "source": []
  }
 ],
 "metadata": {
  "kernelspec": {
   "display_name": "Python 2",
   "language": "python",
   "name": "python2"
  },
  "language_info": {
   "codemirror_mode": {
    "name": "ipython",
    "version": 2
   },
   "file_extension": ".py",
   "mimetype": "text/x-python",
   "name": "python",
   "nbconvert_exporter": "python",
   "pygments_lexer": "ipython2",
   "version": "2.7.12"
  }
 },
 "nbformat": 4,
 "nbformat_minor": 2
}
