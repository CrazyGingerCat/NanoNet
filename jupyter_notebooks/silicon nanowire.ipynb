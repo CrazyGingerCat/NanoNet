{
 "cells": [
  {
   "cell_type": "code",
   "execution_count": 1,
   "metadata": {},
   "outputs": [
    {
     "ename": "NameError",
     "evalue": "name 'Atom' is not defined",
     "traceback": [
      "\u001b[0;31m---------------------------------------------------------------------------\u001b[0m",
      "\u001b[0;31mNameError\u001b[0m                                 Traceback (most recent call last)",
      "\u001b[0;32m<ipython-input-1-96895c7b401e>\u001b[0m in \u001b[0;36m<module>\u001b[0;34m()\u001b[0m\n\u001b[1;32m      1\u001b[0m \u001b[0ma_si\u001b[0m \u001b[0;34m=\u001b[0m \u001b[0;36m5.50\u001b[0m\u001b[0;34m\u001b[0m\u001b[0m\n\u001b[1;32m      2\u001b[0m \u001b[0mPRIMITIVE_CELL\u001b[0m \u001b[0;34m=\u001b[0m \u001b[0;34m[\u001b[0m\u001b[0;34m[\u001b[0m\u001b[0;36m0\u001b[0m\u001b[0;34m,\u001b[0m \u001b[0;36m0\u001b[0m\u001b[0;34m,\u001b[0m \u001b[0ma_si\u001b[0m\u001b[0;34m]\u001b[0m\u001b[0;34m]\u001b[0m\u001b[0;34m\u001b[0m\u001b[0m\n\u001b[0;32m----> 3\u001b[0;31m \u001b[0mAtom\u001b[0m\u001b[0;34m.\u001b[0m\u001b[0morbital_sets\u001b[0m \u001b[0;34m=\u001b[0m \u001b[0;34m{\u001b[0m\u001b[0;34m'Si'\u001b[0m\u001b[0;34m:\u001b[0m \u001b[0;34m'SiliconSP3D5S'\u001b[0m\u001b[0;34m,\u001b[0m \u001b[0;34m'H'\u001b[0m\u001b[0;34m:\u001b[0m \u001b[0;34m'HydrogenS'\u001b[0m\u001b[0;34m}\u001b[0m\u001b[0;34m\u001b[0m\u001b[0m\n\u001b[0m\u001b[1;32m      4\u001b[0m \u001b[0;34m\u001b[0m\u001b[0m\n\u001b[1;32m      5\u001b[0m \u001b[0mh\u001b[0m \u001b[0;34m=\u001b[0m \u001b[0mHamiltonian\u001b[0m\u001b[0;34m(\u001b[0m\u001b[0mxyz\u001b[0m\u001b[0;34m=\u001b[0m\u001b[0;34m'/home/mk/TB_project/tb/SiNW.xyz'\u001b[0m\u001b[0;34m)\u001b[0m\u001b[0;34m\u001b[0m\u001b[0m\n",
      "\u001b[0;31mNameError\u001b[0m: name 'Atom' is not defined"
     ],
     "output_type": "error"
    }
   ],
   "source": [
    "    a_si = 5.50\n",
    "    PRIMITIVE_CELL = [[0, 0, a_si]]\n",
    "    Atom.orbital_sets = {'Si': 'SiliconSP3D5S', 'H': 'HydrogenS'}\n",
    "\n",
    "    h = Hamiltonian(xyz='/home/mk/TB_project/tb/SiNW.xyz')\n",
    "    h.initialize()\n",
    "    h.set_periodic_bc(PRIMITIVE_CELL)\n",
    "\n",
    "    num_points = 20\n",
    "    kk = np.linspace(0, constants.PI / a_si, num_points, endpoint=True)\n",
    "    band_sructure = []\n",
    "\n",
    "    for jj in xrange(num_points):\n",
    "        vals, _ = h.diagonalize_periodic_bc([0.0, 0.0, kk[jj]])\n",
    "        band_sructure.append(vals)\n",
    "\n",
    "    band_sructure = np.array(band_sructure)\n",
    "\n",
    "    ax = plt.axes()\n",
    "    ax.set_ylim(-1.0, 2.7)\n",
    "    # ax.xaxis.set_major_formatter(plt.FuncFormatter(format_func))\n",
    "    ax.plot(kk, np.sort(np.real(band_sructure)))\n",
    "    plt.show()\n"
   ]
  },
  {
   "cell_type": "code",
   "execution_count": null,
   "metadata": {},
   "outputs": [],
   "source": []
  }
 ],
 "metadata": {
  "kernelspec": {
   "display_name": "Python 2",
   "language": "python",
   "name": "python2"
  },
  "language_info": {
   "codemirror_mode": {
    "name": "ipython",
    "version": 2
   },
   "file_extension": ".py",
   "mimetype": "text/x-python",
   "name": "python",
   "nbconvert_exporter": "python",
   "pygments_lexer": "ipython2",
   "version": "2.7.12"
  }
 },
 "nbformat": 4,
 "nbformat_minor": 2
}
